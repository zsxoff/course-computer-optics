{
 "cells": [
  {
   "cell_type": "code",
   "execution_count": 1,
   "metadata": {},
   "outputs": [],
   "source": [
    "import matplotlib.pyplot as plt\n",
    "import numpy as np\n",
    "import scipy.integrate\n",
    "import sympy\n",
    "from mpl_toolkits.mplot3d import Axes3D\n",
    "\n",
    "%matplotlib inline"
   ]
  },
  {
   "cell_type": "code",
   "execution_count": 2,
   "metadata": {},
   "outputs": [
    {
     "name": "stdout",
     "output_type": "stream",
     "text": [
      "Notebook date: 2020-04-29 16:57:47.775455\n",
      "NumPy: 1.18.2\n",
      "SciPy: 1.4.1\n",
      "Python: 3.7.6 (default, Jan  8 2020, 19:59:22) \n",
      "[GCC 7.3.0]\n"
     ]
    }
   ],
   "source": [
    "def versions():\n",
    "    from datetime import datetime\n",
    "    print(\"Notebook date:\", datetime.now())\n",
    "\n",
    "    import numpy as np\n",
    "    print(\"NumPy:\", np.__version__)\n",
    "\n",
    "    import scipy as sc\n",
    "    print(\"SciPy:\", sc.__version__)\n",
    "\n",
    "    import sys\n",
    "    print(\"Python:\", sys.version)\n",
    "\n",
    "versions()"
   ]
  },
  {
   "cell_type": "code",
   "execution_count": 3,
   "metadata": {},
   "outputs": [],
   "source": [
    "a = 5\n",
    "N = 128\n",
    "M = 2048"
   ]
  },
  {
   "cell_type": "markdown",
   "metadata": {},
   "source": [
    "### 1. Реализация финитного преобразования с помощью БПФ"
   ]
  },
  {
   "cell_type": "code",
   "execution_count": 4,
   "metadata": {},
   "outputs": [],
   "source": [
    "def finite_fft(vector_f, a, b, N, M):\n",
    "    # 1. Append zeroes vectors to M size.\n",
    "    zeros = np.zeros(int((M - N) / 2))\n",
    "\n",
    "    vector_f = np.concatenate((zeros, vector_f, zeros), axis=None)\n",
    "\n",
    "    # 2. Swap parts of vector f.\n",
    "    center = int(len(vector_f) / 2)\n",
    "\n",
    "    vector_f = np.concatenate((vector_f[center:], vector_f[:center]))\n",
    "\n",
    "    # 3. Apply FFT.\n",
    "    vector_F = np.fft.fft(vector_f, M) * (b - a) / (N - 1)\n",
    "\n",
    "    # 4. Swap parts of vector F.\n",
    "    center = int(len(vector_F) / 2)\n",
    "\n",
    "    vector_F = np.concatenate((vector_F[center:], vector_F[:center]))\n",
    "\n",
    "    # 5. Cut center.\n",
    "    vector_F = vector_F[int((M - N) / 2) : int((M - N) / 2 + N)]\n",
    "\n",
    "    # 6. Recount domain of a function.\n",
    "    _new_domain = N ** 2 / (4 * a * M)\n",
    "    func_domain = sorted([-_new_domain, _new_domain])\n",
    "\n",
    "    return vector_F, func_domain"
   ]
  },
  {
   "cell_type": "markdown",
   "metadata": {},
   "source": [
    "### 2. Гауссов пучок"
   ]
  },
  {
   "cell_type": "code",
   "execution_count": 5,
   "metadata": {},
   "outputs": [
    {
     "data": {
      "image/png": "[encoded data removed]",
      "text/plain": [
       "<Figure size 1080x360 with 2 Axes>"
      ]
     },
     "metadata": {
      "needs_background": "light"
     },
     "output_type": "display_data"
    }
   ],
   "source": [
    "def gen_gaussian_beam(x):\n",
    "    return np.exp(-(x ** 2))\n",
    "\n",
    "\n",
    "lspace = np.linspace(-a, a, num=N, endpoint=False)\n",
    "gaussian_beam = gen_gaussian_beam(lspace)\n",
    "\n",
    "_, arr = plt.subplots(1, 2, figsize=(15, 5))\n",
    "\n",
    "arr[0].plot(lspace, np.absolute(gaussian_beam), color=\"r\", linewidth=3.0, label=\"Амплитуда\")\n",
    "arr[0].set_title(r\"$\\exp(-x^2)$\")\n",
    "arr[0].legend()\n",
    "arr[0].grid()\n",
    "\n",
    "arr[1].plot(lspace, np.angle(gaussian_beam), color=\"b\", linewidth=3.0, label=\"Фаза\")\n",
    "arr[1].set_title(r\"$\\exp(-x^2)$\")\n",
    "arr[1].legend()\n",
    "arr[1].grid()\n",
    "\n",
    "plt.show()"
   ]
  },
  {
   "cell_type": "markdown",
   "metadata": {},
   "source": [
    "### 3. Правильность реализации финитного преобразования с помощью БПФ"
   ]
  },
  {
   "cell_type": "code",
   "execution_count": null,
   "metadata": {},
   "outputs": [],
   "source": [
    "fft_gaussian_beam, domain = finite_fft(\n",
    "    gen_gaussian_beam(np.linspace(-a, a, num=N, endpoint=False)), a=-a, b=a, N=N, M=M\n",
    ")\n",
    "\n",
    "lspace = np.linspace(domain[0], domain[1], num=N, endpoint=False)\n",
    "\n",
    "_, arr = plt.subplots(1, 2, figsize=(15, 5))\n",
    "\n",
    "arr[0].plot(\n",
    "    lspace, np.absolute(fft_gaussian_beam), color=\"r\", linewidth=3.0, label=\"Амплитуда\",\n",
    ")\n",
    "arr[0].set_title(r\"$\\exp(-x^2)$\")\n",
    "arr[0].legend()\n",
    "arr[0].grid()\n",
    "\n",
    "arr[1].plot(lspace, np.angle(fft_gaussian_beam), color=\"b\", linewidth=3.0, label=\"Фаза\")\n",
    "arr[1].set_title(r\"$\\exp(-x^2)$\")\n",
    "arr[1].legend()\n",
    "arr[1].grid()\n",
    "\n",
    "plt.show()"
   ]
  },
  {
   "cell_type": "markdown",
   "metadata": {},
   "source": [
    "### 4. Реализация финитного преобразования с помощью численного метода"
   ]
  },
  {
   "cell_type": "code",
   "execution_count": null,
   "metadata": {},
   "outputs": [],
   "source": [
    "def quad(func, a, b, N):\n",
    "    h = (b - a) / N\n",
    "\n",
    "    return ((func(a) + func(b)) / 2 + sum([func(a + h * i) for i in range(N)])) * h\n",
    "\n",
    "\n",
    "def numerical(func, a, b, N, M):\n",
    "    # Create new function domain.\n",
    "    _new_domain = N ** 2 / (4 * a * M)\n",
    "    func_domain = sorted([-_new_domain, _new_domain])\n",
    "\n",
    "    # Step for function.\n",
    "    func_step = (func_domain[1] - func_domain[0]) / (N - 1)\n",
    "\n",
    "    F = np.zeros((N,), dtype=np.complex)\n",
    "\n",
    "    for i in range(len(F)):\n",
    "        u = func_domain[0] + i * func_step\n",
    "\n",
    "        F[i] = quad(lambda x: func(x) * np.exp(-2 * np.pi * u * x * 1j), a=a, b=b, N=N)\n",
    "\n",
    "    return F, func_domain"
   ]
  },
  {
   "cell_type": "code",
   "execution_count": null,
   "metadata": {},
   "outputs": [],
   "source": [
    "numerical_gaussian_beam, domain = numerical(gen_gaussian_beam, a=-a, b=a, N=N, M=M)\n",
    "\n",
    "lspace = np.linspace(domain[0], domain[1], num=N, endpoint=False)\n",
    "\n",
    "_, arr = plt.subplots(1, 2, figsize=(15, 5))\n",
    "\n",
    "arr[0].plot(lspace, np.absolute(numerical_gaussian_beam), color=\"r\", linewidth=3.0, label=\"Амплитуда\")\n",
    "arr[0].set_title(r\"$\\exp(-x^2)$\")\n",
    "arr[0].legend()\n",
    "arr[0].grid()\n",
    "\n",
    "arr[1].plot(lspace, np.angle(numerical_gaussian_beam), color=\"b\", linewidth=3.0, label=\"Фаза\")\n",
    "arr[1].set_title(r\"$\\exp(-x^2)$\")\n",
    "arr[1].legend()\n",
    "arr[1].grid()\n",
    "\n",
    "plt.show()"
   ]
  },
  {
   "cell_type": "markdown",
   "metadata": {},
   "source": [
    "### 5. Результаты двух разных реализаций преобразования"
   ]
  },
  {
   "cell_type": "code",
   "execution_count": null,
   "metadata": {},
   "outputs": [],
   "source": [
    "_, arr = plt.subplots(1, 2, figsize=(15, 5))\n",
    "\n",
    "arr[0].plot(lspace, np.absolute(fft_gaussian_beam), color=\"r\", linewidth=3.0, label=\"Finite FFT, Амплитуда\")\n",
    "arr[0].plot(lspace, np.absolute(numerical_gaussian_beam), color=\"b\", linewidth=3.0, label=\"Finite Numerical, Амплитуда\")\n",
    "arr[0].grid()\n",
    "arr[0].legend()\n",
    "\n",
    "arr[1].plot(lspace, np.angle(fft_gaussian_beam), color=\"r\", linewidth=3.0, label=\"Finite FFT, Фаза\")\n",
    "arr[1].plot(lspace, np.angle(numerical_gaussian_beam), color=\"b\", linewidth=3.0, label=\"Finite Numerical, Фаза\")\n",
    "arr[1].grid()\n",
    "arr[1].legend()\n",
    "\n",
    "plt.show()"
   ]
  },
  {
   "cell_type": "markdown",
   "metadata": {},
   "source": [
    "### 6. Световое поле"
   ]
  },
  {
   "cell_type": "markdown",
   "metadata": {},
   "source": [
    "#### Исходное поле\n",
    "\n",
    "Вариант 7: $x^2$"
   ]
  },
  {
   "cell_type": "code",
   "execution_count": null,
   "metadata": {},
   "outputs": [],
   "source": [
    "def gen_light_field(x):\n",
    "    return x ** 2"
   ]
  },
  {
   "cell_type": "code",
   "execution_count": null,
   "metadata": {},
   "outputs": [],
   "source": [
    "lspace = np.linspace(-a, a, num=N, endpoint=False)\n",
    "light_field = gen_light_field(lspace)\n",
    "\n",
    "_, arr = plt.subplots(1, 2, figsize=(15, 5))\n",
    "\n",
    "arr[0].plot(lspace, np.absolute(light_field), color=\"r\", linewidth=3.0, label=\"Амплитуда\")\n",
    "arr[0].set_title(r\"$x^2$\")\n",
    "arr[0].legend()\n",
    "arr[0].grid()\n",
    "\n",
    "arr[1].plot(lspace, np.angle(light_field), color=\"b\", linewidth=3.0, label=\"Фаза\")\n",
    "arr[1].set_title(r\"$x^2$\")\n",
    "arr[1].legend()\n",
    "arr[1].grid()\n",
    "\n",
    "plt.show()"
   ]
  },
  {
   "cell_type": "markdown",
   "metadata": {},
   "source": [
    "#### Преобразование"
   ]
  },
  {
   "cell_type": "code",
   "execution_count": null,
   "metadata": {},
   "outputs": [],
   "source": [
    "fft_light_field, domain = finite_fft(gen_light_field(np.linspace(-a, a, num=N, endpoint=False)), a=-a, b=a, N=N, M=M)\n",
    "\n",
    "lspace = np.linspace(domain[0], domain[1], num=N, endpoint=False)\n",
    "\n",
    "_, arr = plt.subplots(1, 2, figsize=(15, 5))\n",
    "\n",
    "arr[0].plot(lspace, np.absolute(fft_light_field), color=\"r\", linewidth=3.0, label=\"Амплитуда\")\n",
    "arr[0].set_title(r\"$x^2$\")\n",
    "arr[0].legend()\n",
    "arr[0].grid()\n",
    "\n",
    "arr[1].plot(lspace, np.angle(fft_light_field), color=\"b\", linewidth=3.0, label=\"Фаза\")\n",
    "arr[1].set_title(r\"$x^2$\")\n",
    "arr[1].legend()\n",
    "arr[1].grid()\n",
    "\n",
    "plt.show()"
   ]
  },
  {
   "cell_type": "markdown",
   "metadata": {},
   "source": [
    "### 7. Аналитический результат преобразования"
   ]
  },
  {
   "cell_type": "code",
   "execution_count": null,
   "metadata": {},
   "outputs": [],
   "source": [
    "_x = sympy.Symbol(\"x\")\n",
    "_u = sympy.Symbol(\"u\")\n",
    "_a = sympy.Symbol(\"a\")\n",
    "\n",
    "integrate = sympy.integrate(\n",
    "    gen_light_field(_x) * sympy.exp(-2 * sympy.pi * 1j * _u * _x),\n",
    "    (_x, -_a, _a),\n",
    ").simplify()"
   ]
  },
  {
   "cell_type": "markdown",
   "metadata": {},
   "source": [
    "#### Аналитическое решение в общем виде"
   ]
  },
  {
   "cell_type": "code",
   "execution_count": null,
   "metadata": {},
   "outputs": [],
   "source": [
    "integrate"
   ]
  },
  {
   "cell_type": "markdown",
   "metadata": {},
   "source": [
    "#### Аналитическое решение после подстановки $a$"
   ]
  },
  {
   "cell_type": "code",
   "execution_count": null,
   "metadata": {},
   "outputs": [],
   "source": [
    "integrate.subs(_a, a)"
   ]
  },
  {
   "cell_type": "code",
   "execution_count": null,
   "metadata": {},
   "outputs": [],
   "source": [
    "analytical_function = sympy.lambdify(\n",
    "    _u, integrate.subs(_a, a).args[0][0], \"numpy\"\n",
    ")"
   ]
  },
  {
   "cell_type": "markdown",
   "metadata": {},
   "source": [
    "#### Сравнение графиков"
   ]
  },
  {
   "cell_type": "code",
   "execution_count": null,
   "metadata": {},
   "outputs": [],
   "source": [
    "fft_light_field, domain = finite_fft(gen_light_field(np.linspace(-a, a, num=N, endpoint=False)), a=-a, b=a, N=N, M=M)\n",
    "\n",
    "lspace = np.linspace(domain[0], domain[1], num=N, endpoint=False)\n",
    "\n",
    "analytical_result = analytical_function(lspace)\n",
    "\n",
    "_, arr = plt.subplots(1, 2, figsize=(15, 5))\n",
    "\n",
    "arr[0].plot(lspace, np.absolute(fft_light_field), color=\"r\", linewidth=3.0, label=\"Finite FFT, Амплитуда\")\n",
    "arr[0].plot(lspace, np.absolute(analytical_result), color=\"b\", linewidth=3.0, label=\"Analytical, Амплитуда\")\n",
    "arr[0].grid()\n",
    "arr[0].legend()\n",
    "\n",
    "arr[1].plot(lspace, np.angle(fft_light_field), color=\"r\", linewidth=3.0, label=\"Finite FFT, Фаза\")\n",
    "arr[1].plot(lspace, np.angle(analytical_result), color=\"b\", linewidth=3.0, label=\"Analytical, Фаза\")\n",
    "arr[1].grid()\n",
    "arr[1].legend()\n",
    "\n",
    "plt.show()"
   ]
  },
  {
   "cell_type": "markdown",
   "metadata": {},
   "source": [
    "# Двумерный случай"
   ]
  },
  {
   "cell_type": "markdown",
   "metadata": {},
   "source": [
    "## 1. Гауссов пучок"
   ]
  },
  {
   "cell_type": "code",
   "execution_count": null,
   "metadata": {},
   "outputs": [],
   "source": [
    "def gen_gaussian_beam_2d(x, y):\n",
    "    return np.exp(-x ** 2 - y ** 2)\n",
    "\n",
    "lspace = np.linspace(-a, a, num=N, endpoint=False)\n",
    "X, Y = np.meshgrid(lspace, lspace)\n",
    "\n",
    "gaussian_beam_2d = gen_gaussian_beam_2d(X, Y)\n",
    "\n",
    "# - - -- - -- - -- - -- - -- - -- - -- - -- - -- - -- - -- - -- - -- - -- - -\n",
    "\n",
    "fig = plt.figure(figsize=(22, 8))\n",
    "\n",
    "# ax = fig.add_subplot(121, projection=\"3d\")\n",
    "# ax.plot_surface(X, Y, np.absolute(gaussian_beam_2d), cmap=\"coolwarm\", antialiased=True)\n",
    "# plt.title(r\"Амплитуда $\\exp(-x^2 -y^2)$\")\n",
    "\n",
    "# ax = fig.add_subplot(122, projection=\"3d\")\n",
    "# ax.plot_surface(X, Y, np.angle(gaussian_beam_2d), cmap=\"coolwarm\", antialiased=True)\n",
    "# plt.title(r\"Фаза $\\exp(-x^2 -y^2)$\")\n",
    "\n",
    "ax = fig.add_subplot(121)\n",
    "plt.imshow(np.absolute(gaussian_beam_2d))\n",
    "plt.title(r\"Амплитуда $\\exp(-x^2 -y^2)$\")\n",
    "\n",
    "ax = fig.add_subplot(122)\n",
    "plt.imshow(np.angle(gaussian_beam_2d))\n",
    "plt.title(r\"Фаза $\\exp(-x^2 -y^2)$\")\n",
    "\n",
    "plt.show()"
   ]
  },
  {
   "cell_type": "markdown",
   "metadata": {},
   "source": [
    "## 2. Правильность реализации финитного преобразования с помощью БПФ"
   ]
  },
  {
   "cell_type": "code",
   "execution_count": null,
   "metadata": {},
   "outputs": [],
   "source": [
    "def finite_fft_2d(matrix, a, b, N, M):\n",
    "    fft_gaussian_beam_2d = matrix.copy()\n",
    "\n",
    "    # Iterate over rows.\n",
    "    for k, row in enumerate(fft_gaussian_beam_2d):\n",
    "        fft_gaussian_beam_2d[k], domain = finite_fft(row, a=-a, b=a, N=N, M=M)\n",
    "\n",
    "    # Iterate over cols.\n",
    "    fft_gaussian_beam_2d = np.rot90(fft_gaussian_beam_2d, k = -1)\n",
    "\n",
    "    for k, row in enumerate(fft_gaussian_beam_2d):\n",
    "        fft_gaussian_beam_2d[k], domain = finite_fft(row, a=-a, b=a, N=N, M=M)\n",
    "\n",
    "    fft_gaussian_beam_2d = np.rot90(fft_gaussian_beam_2d, k = 1)\n",
    "    \n",
    "    return fft_gaussian_beam_2d, domain"
   ]
  },
  {
   "cell_type": "code",
   "execution_count": null,
   "metadata": {},
   "outputs": [],
   "source": [
    "lspace = np.linspace(-a, a, num=N, endpoint=False)\n",
    "\n",
    "X, Y = np.meshgrid(lspace, lspace)\n",
    "\n",
    "gaussian_beam_2d = gen_gaussian_beam_2d(X, Y).astype(np.complex)\n",
    "\n",
    "fft_gaussian_beam_2d, domain = finite_fft_2d(gaussian_beam_2d, a=-a, b=a, N=N, M=M)\n",
    "\n",
    "# - - -- - -- - -- - -- - -- - -- - -- - -- - -- - -- - -- - -- - -- - -- - -\n",
    "\n",
    "lspace = np.linspace(domain[0], domain[1], num=N, endpoint=False)\n",
    "\n",
    "X, Y = np.meshgrid(lspace, lspace)\n",
    "\n",
    "fig = plt.figure(figsize=(22, 8))\n",
    "\n",
    "# ax = fig.add_subplot(121, projection=\"3d\")\n",
    "# ax.plot_surface(X, Y, np.absolute(fft_gaussian_beam_2d), cmap=\"coolwarm\", antialiased=True)\n",
    "# plt.title(r\"Амплитуда $\\exp(-x^2 -y^2)$\")\n",
    "\n",
    "# ax = fig.add_subplot(122, projection=\"3d\")\n",
    "# ax.plot_surface(X, Y, np.angle(fft_gaussian_beam_2d), cmap=\"coolwarm\", antialiased=True)\n",
    "# plt.title(r\"Фаза $\\exp(-x^2 -y^2)$\")\n",
    "\n",
    "ax = fig.add_subplot(121)\n",
    "plt.imshow(np.absolute(fft_gaussian_beam_2d))\n",
    "plt.title(r\"Амплитуда $\\exp(-x^2 -y^2)$\")\n",
    "\n",
    "ax = fig.add_subplot(122)\n",
    "plt.imshow(np.angle(fft_gaussian_beam_2d))\n",
    "plt.title(r\"Фаза $\\exp(-x^2 -y^2)$\")\n",
    "\n",
    "plt.show()"
   ]
  },
  {
   "cell_type": "markdown",
   "metadata": {},
   "source": [
    "## 3. Световое поле"
   ]
  },
  {
   "cell_type": "code",
   "execution_count": null,
   "metadata": {},
   "outputs": [],
   "source": [
    "def gen_light_field_2d(x, y):\n",
    "    return x ** 2 * y ** 2"
   ]
  },
  {
   "cell_type": "markdown",
   "metadata": {},
   "source": [
    "#### Исходное поле"
   ]
  },
  {
   "cell_type": "code",
   "execution_count": null,
   "metadata": {},
   "outputs": [],
   "source": [
    "lspace = np.linspace(-a, a, num=N, endpoint=False)\n",
    "\n",
    "X, Y = np.meshgrid(lspace, lspace)\n",
    "\n",
    "light_field_2d = gen_light_field_2d(X, Y).astype(np.complex)\n",
    "\n",
    "# - - -- - -- - -- - -- - -- - -- - -- - -- - -- - -- - -- - -- - -- - -- - -\n",
    "\n",
    "fig = plt.figure(figsize=(22, 8))\n",
    "\n",
    "# ax = fig.add_subplot(121, projection=\"3d\")\n",
    "# ax.plot_surface(X, Y, np.absolute(light_field_2d), cmap=\"coolwarm\", antialiased=True)\n",
    "# plt.title(r\"Амплитуда $x^2 \\cdot y ^ 2$\")\n",
    "\n",
    "# ax = fig.add_subplot(122, projection=\"3d\")\n",
    "# ax.plot_surface(X, Y, np.angle(light_field_2d), cmap=\"coolwarm\", antialiased=True)\n",
    "# plt.title(r\"Фаза $x^2 \\cdot y ^ 2$\")\n",
    "\n",
    "ax = fig.add_subplot(121)\n",
    "plt.imshow(np.absolute(light_field_2d))\n",
    "plt.title(r\"Амплитуда $x^2 \\cdot y ^ 2$\")\n",
    "\n",
    "ax = fig.add_subplot(122)\n",
    "plt.imshow(np.angle(light_field_2d))\n",
    "plt.title(r\"Фаза $x^2 \\cdot y ^ 2$\")\n",
    "\n",
    "plt.show()"
   ]
  },
  {
   "cell_type": "markdown",
   "metadata": {},
   "source": [
    "#### Преобразование"
   ]
  },
  {
   "cell_type": "code",
   "execution_count": null,
   "metadata": {},
   "outputs": [],
   "source": [
    "fft_gaussian_beam_2d, domain = finite_fft_2d(light_field_2d, a=-a, b=a, N=N, M=M)\n",
    "\n",
    "# - - -- - -- - -- - -- - -- - -- - -- - -- - -- - -- - -- - -- - -- - -- - -\n",
    "\n",
    "lspace = np.linspace(domain[0], domain[1], num=N, endpoint=False)\n",
    "\n",
    "X, Y = np.meshgrid(lspace, lspace)\n",
    "\n",
    "fig = plt.figure(figsize=(22, 8))\n",
    "\n",
    "# ax = fig.add_subplot(121, projection=\"3d\")\n",
    "# ax.plot_surface(X, Y, np.absolute(fft_gaussian_beam_2d), cmap=\"coolwarm\", antialiased=True)\n",
    "# plt.title(r\"Амплитуда $x^2 \\cdot y ^ 2$\")\n",
    "\n",
    "# ax = fig.add_subplot(122, projection=\"3d\")\n",
    "# ax.plot_surface(X, Y, np.angle(fft_gaussian_beam_2d), cmap=\"coolwarm\", antialiased=True)\n",
    "# plt.title(r\"Фаза $x^2 \\cdot y ^ 2$\")\n",
    "\n",
    "ax = fig.add_subplot(121)\n",
    "plt.imshow(np.absolute(fft_gaussian_beam_2d))\n",
    "plt.title(r\"Амплитуда $x^2 \\cdot y ^ 2$\")\n",
    "\n",
    "ax = fig.add_subplot(122)\n",
    "plt.imshow(np.angle(fft_gaussian_beam_2d))\n",
    "plt.title(r\"Фаза $x^2 \\cdot y ^ 2$\")\n",
    "\n",
    "plt.show()"
   ]
  },
  {
   "cell_type": "markdown",
   "metadata": {},
   "source": [
    "## 4. Аналитический результат преобразования"
   ]
  },
  {
   "cell_type": "code",
   "execution_count": null,
   "metadata": {},
   "outputs": [],
   "source": [
    "_x = sympy.Symbol(\"x\")\n",
    "_y = sympy.Symbol(\"y\")\n",
    "_u = sympy.Symbol(\"u\")\n",
    "_v = sympy.Symbol(\"v\")\n",
    "_a = sympy.Symbol(\"a\")"
   ]
  },
  {
   "cell_type": "markdown",
   "metadata": {},
   "source": [
    "#### Вычисление повторного интеграла: интегрирование по dx"
   ]
  },
  {
   "cell_type": "code",
   "execution_count": null,
   "metadata": {},
   "outputs": [],
   "source": [
    "integrate_dx = sympy.integrate(gen_light_field_2d(_x, _y) * sympy.exp(-2 * sympy.pi * 1j * (_u * _x + _v * _y)), (_x, -_a, _a)).subs(_a, a)"
   ]
  },
  {
   "cell_type": "markdown",
   "metadata": {},
   "source": [
    "#### Интегрирование по dy"
   ]
  },
  {
   "cell_type": "code",
   "execution_count": null,
   "metadata": {},
   "outputs": [],
   "source": [
    "integrate_dy = sympy.integrate(integrate_dx.args[0][0], (_y, -_a, _a)).simplify()"
   ]
  },
  {
   "cell_type": "markdown",
   "metadata": {},
   "source": [
    "#### Аналитическое решение в общем виде"
   ]
  },
  {
   "cell_type": "code",
   "execution_count": null,
   "metadata": {},
   "outputs": [],
   "source": [
    "integrate_dy"
   ]
  },
  {
   "cell_type": "markdown",
   "metadata": {},
   "source": [
    "#### Аналитическое решение после подстановки $a$"
   ]
  },
  {
   "cell_type": "code",
   "execution_count": null,
   "metadata": {},
   "outputs": [],
   "source": [
    "integrate_dy.subs(_a, a)"
   ]
  },
  {
   "cell_type": "code",
   "execution_count": null,
   "metadata": {},
   "outputs": [],
   "source": [
    "analytical_function_2d = sympy.lambdify([_u, _v], integrate_dy.subs(_a, a).args[0][0], \"numpy\")"
   ]
  },
  {
   "cell_type": "code",
   "execution_count": null,
   "metadata": {},
   "outputs": [],
   "source": [
    "fft_gaussian_beam_2d, domain = finite_fft_2d(light_field_2d, a=-a, b=a, N=N, M=M)\n",
    "\n",
    "# - - -- - -- - -- - -- - -- - -- - -- - -- - -- - -- - -- - -- - -- - -- - -\n",
    "\n",
    "lspace = np.linspace(domain[0], domain[1], num=N)\n",
    "\n",
    "X, Y = np.meshgrid(lspace, lspace)\n",
    "\n",
    "# analytical_result_2d = analytical_function_2d(X, Y)\n",
    "\n",
    "analytical_result_2d = analytical_function(X) * analytical_function(Y)\n",
    "\n",
    "fig = plt.figure(figsize=(22, 8))\n",
    "\n",
    "# ax = fig.add_subplot(121, projection=\"3d\")\n",
    "# ax.plot_surface(X, Y, np.absolute(analytical_result_2d), cmap=\"coolwarm\", antialiased=True)\n",
    "# plt.title(r\"Амплитуда $x^2 \\cdot y ^ 2$\")\n",
    "\n",
    "# ax = fig.add_subplot(122, projection=\"3d\")\n",
    "# ax.plot_surface(X, Y, np.angle(analytical_result_2d), cmap=\"coolwarm\", antialiased=True)\n",
    "# plt.title(r\"Фаза $x^2 \\cdot y ^ 2$\")\n",
    "\n",
    "ax = fig.add_subplot(121)\n",
    "plt.imshow(np.absolute(analytical_result_2d))\n",
    "plt.title(r\"Амплитуда $x^2 \\cdot y ^ 2$\")\n",
    "\n",
    "ax = fig.add_subplot(122)\n",
    "plt.imshow(np.angle(analytical_result_2d))\n",
    "plt.title(r\"Фаза $x^2 \\cdot y ^ 2$\")\n",
    "\n",
    "plt.show()"
   ]
  }
 ],
 "metadata": {
  "kernelspec": {
   "display_name": "Python 3",
   "language": "python",
   "name": "python3"
  },
  "language_info": {
   "codemirror_mode": {
    "name": "ipython",
    "version": 3
   },
   "file_extension": ".py",
   "mimetype": "text/x-python",
   "name": "python",
   "nbconvert_exporter": "python",
   "pygments_lexer": "ipython3",
   "version": "3.7.6"
  }
 },
 "nbformat": 4,
 "nbformat_minor": 4
}
